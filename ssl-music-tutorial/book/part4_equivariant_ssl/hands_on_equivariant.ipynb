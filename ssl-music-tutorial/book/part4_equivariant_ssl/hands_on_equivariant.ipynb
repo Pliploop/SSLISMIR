{
  "cells": [
    {
      "cell_type": "markdown",
      "metadata": {},
      "source": [
        "# 14. Hands-On: Equivariant SSL\n",
        "\n",
        "## 🔧 Code lab: Tonality estimation with equivariant architectures\n",
        "\n",
        "*Content to be implemented*\n"
      ]
    }
  ],
  "metadata": {
    "language_info": {
      "name": "python"
    }
  },
  "nbformat": 4,
  "nbformat_minor": 2
}
